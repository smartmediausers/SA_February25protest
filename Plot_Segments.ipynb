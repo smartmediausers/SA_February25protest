{
 "cells": [
  {
   "cell_type": "code",
   "execution_count": 1,
   "id": "46646291-4294-4b35-89ea-6a226f1be56a",
   "metadata": {},
   "outputs": [],
   "source": [
    "import pandas as pd\n",
    "import json"
   ]
  },
  {
   "cell_type": "code",
   "execution_count": 12,
   "id": "78168e55-c05e-41b7-9b87-2a3ad266682d",
   "metadata": {},
   "outputs": [],
   "source": [
    "with open('agrupados_todos.json') as f:\n",
    "    data = json.load(f)"
   ]
  },
  {
   "cell_type": "code",
   "execution_count": 13,
   "id": "590ecb17-4fcb-4903-a587-e82a764376cc",
   "metadata": {},
   "outputs": [],
   "source": [
    "df = pd.DataFrame.from_dict(data, orient='index')"
   ]
  },
  {
   "cell_type": "code",
   "execution_count": 14,
   "id": "3f082fbd-4701-4fc5-b9ee-528f61a0d5ec",
   "metadata": {},
   "outputs": [
    {
     "data": {
      "text/html": [
       "<div>\n",
       "<style scoped>\n",
       "    .dataframe tbody tr th:only-of-type {\n",
       "        vertical-align: middle;\n",
       "    }\n",
       "\n",
       "    .dataframe tbody tr th {\n",
       "        vertical-align: top;\n",
       "    }\n",
       "\n",
       "    .dataframe thead th {\n",
       "        text-align: right;\n",
       "    }\n",
       "</style>\n",
       "<table border=\"1\" class=\"dataframe\">\n",
       "  <thead>\n",
       "    <tr style=\"text-align: right;\">\n",
       "      <th></th>\n",
       "      <th>emotions</th>\n",
       "      <th>sentiment</th>\n",
       "      <th>elements</th>\n",
       "    </tr>\n",
       "  </thead>\n",
       "  <tbody>\n",
       "    <tr>\n",
       "      <th>-2208978000000</th>\n",
       "      <td>{'sadness': 0.09347826086956522, 'joy': 0.1176...</td>\n",
       "      <td>{'score': 0.12499999999999989}</td>\n",
       "      <td>23.0</td>\n",
       "    </tr>\n",
       "    <tr>\n",
       "      <th>-2208977100000</th>\n",
       "      <td>{'sadness': 0.15642287537026672, 'joy': 0.1184...</td>\n",
       "      <td>{'score': -82.38020833309987}</td>\n",
       "      <td>1463.0</td>\n",
       "    </tr>\n",
       "    <tr>\n",
       "      <th>-2208976200000</th>\n",
       "      <td>{'sadness': 0.14285824384540377, 'joy': 0.1370...</td>\n",
       "      <td>{'score': -67.08577546260024}</td>\n",
       "      <td>2535.0</td>\n",
       "    </tr>\n",
       "    <tr>\n",
       "      <th>-2208975300000</th>\n",
       "      <td>{'sadness': 0.1285869859307354, 'joy': 0.11732...</td>\n",
       "      <td>{'score': -73.20114583319977}</td>\n",
       "      <td>2772.0</td>\n",
       "    </tr>\n",
       "    <tr>\n",
       "      <th>-2208974400000</th>\n",
       "      <td>{'sadness': 0.13391899379421526, 'joy': 0.1729...</td>\n",
       "      <td>{'score': 27.985729166899986}</td>\n",
       "      <td>1504.0</td>\n",
       "    </tr>\n",
       "  </tbody>\n",
       "</table>\n",
       "</div>"
      ],
      "text/plain": [
       "                                                         emotions  \\\n",
       "-2208978000000  {'sadness': 0.09347826086956522, 'joy': 0.1176...   \n",
       "-2208977100000  {'sadness': 0.15642287537026672, 'joy': 0.1184...   \n",
       "-2208976200000  {'sadness': 0.14285824384540377, 'joy': 0.1370...   \n",
       "-2208975300000  {'sadness': 0.1285869859307354, 'joy': 0.11732...   \n",
       "-2208974400000  {'sadness': 0.13391899379421526, 'joy': 0.1729...   \n",
       "\n",
       "                                     sentiment  elements  \n",
       "-2208978000000  {'score': 0.12499999999999989}      23.0  \n",
       "-2208977100000   {'score': -82.38020833309987}    1463.0  \n",
       "-2208976200000   {'score': -67.08577546260024}    2535.0  \n",
       "-2208975300000   {'score': -73.20114583319977}    2772.0  \n",
       "-2208974400000   {'score': 27.985729166899986}    1504.0  "
      ]
     },
     "execution_count": 14,
     "metadata": {},
     "output_type": "execute_result"
    }
   ],
   "source": [
    "df.head()"
   ]
  },
  {
   "cell_type": "code",
   "execution_count": null,
   "id": "08badb9e-b42f-4d8d-a79e-716d24113cb0",
   "metadata": {},
   "outputs": [],
   "source": []
  }
 ],
 "metadata": {
  "kernelspec": {
   "display_name": "Python 3 (ipykernel)",
   "language": "python",
   "name": "python3"
  },
  "language_info": {
   "codemirror_mode": {
    "name": "ipython",
    "version": 3
   },
   "file_extension": ".py",
   "mimetype": "text/x-python",
   "name": "python",
   "nbconvert_exporter": "python",
   "pygments_lexer": "ipython3",
   "version": "3.12.2"
  }
 },
 "nbformat": 4,
 "nbformat_minor": 5
}
