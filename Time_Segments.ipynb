{
 "cells": [
  {
   "cell_type": "code",
   "execution_count": 25,
   "id": "3a3e482a-37c6-4df6-bcaf-772db57a0438",
   "metadata": {},
   "outputs": [],
   "source": [
    "import pandas as pd\n",
    "import json"
   ]
  },
  {
   "cell_type": "code",
   "execution_count": 26,
   "id": "f33673bd-dd75-41ca-8761-27fd40207308",
   "metadata": {},
   "outputs": [],
   "source": [
    "with open('mensagem_atualizada.json') as f:\n",
    "    data = json.load(f)"
   ]
  },
  {
   "cell_type": "code",
   "execution_count": 27,
   "id": "201b6ca0-0bf5-40d5-8a20-1b737ffe9531",
   "metadata": {},
   "outputs": [],
   "source": [
    "df = pd.DataFrame.from_dict(data, orient='index')"
   ]
  },
  {
   "cell_type": "code",
   "execution_count": 28,
   "id": "ba633838-8a61-46ff-a9b8-c562563d6df0",
   "metadata": {},
   "outputs": [
    {
     "name": "stdout",
     "output_type": "stream",
     "text": [
      "<class 'pandas.core.series.Series'>\n",
      "Index: 14342 entries, 0 to 14341\n",
      "Series name: timestamp\n",
      "Non-Null Count  Dtype \n",
      "--------------  ----- \n",
      "14342 non-null  object\n",
      "dtypes: object(1)\n",
      "memory usage: 224.1+ KB\n"
     ]
    }
   ],
   "source": [
    "df['timestamp'].info()"
   ]
  },
  {
   "cell_type": "code",
   "execution_count": 29,
   "id": "ceaf5b9a-0ce3-4222-b17f-7e973598a29a",
   "metadata": {},
   "outputs": [
    {
     "data": {
      "text/plain": [
       "timestamp                                                03:15\n",
       "message                    Monica Debuche  Vade Retrum Satanás\n",
       "emotions     {'sadness': 0.0, 'joy': 0.0, 'fear': 0.0, 'dis...\n",
       "sentiment                   {'score': 0.0, 'label': 'NEUTRAL'}\n",
       "Name: 32, dtype: object"
      ]
     },
     "execution_count": 29,
     "metadata": {},
     "output_type": "execute_result"
    }
   ],
   "source": [
    "df.iloc[32]"
   ]
  },
  {
   "cell_type": "code",
   "execution_count": 30,
   "id": "48967875-19e7-4467-b65e-ed20bdc3178a",
   "metadata": {},
   "outputs": [],
   "source": [
    "df['timestamp'] = pd.to_datetime(df['timestamp'], format='%H:%M')"
   ]
  },
  {
   "cell_type": "code",
   "execution_count": 31,
   "id": "33d3153a-d1c5-4978-9406-609e0d8f0994",
   "metadata": {},
   "outputs": [
    {
     "data": {
      "text/html": [
       "<div>\n",
       "<style scoped>\n",
       "    .dataframe tbody tr th:only-of-type {\n",
       "        vertical-align: middle;\n",
       "    }\n",
       "\n",
       "    .dataframe tbody tr th {\n",
       "        vertical-align: top;\n",
       "    }\n",
       "\n",
       "    .dataframe thead th {\n",
       "        text-align: right;\n",
       "    }\n",
       "</style>\n",
       "<table border=\"1\" class=\"dataframe\">\n",
       "  <thead>\n",
       "    <tr style=\"text-align: right;\">\n",
       "      <th></th>\n",
       "      <th>timestamp</th>\n",
       "      <th>message</th>\n",
       "      <th>emotions</th>\n",
       "      <th>sentiment</th>\n",
       "    </tr>\n",
       "  </thead>\n",
       "  <tbody>\n",
       "    <tr>\n",
       "      <th>0</th>\n",
       "      <td>1900-01-01 03:14:00</td>\n",
       "      <td>The Guiller  ela ja discursa</td>\n",
       "      <td>{'sadness': 0.0, 'joy': 0.0, 'fear': 0.0, 'dis...</td>\n",
       "      <td>{'score': 0.0, 'label': 'NEUTRAL'}</td>\n",
       "    </tr>\n",
       "    <tr>\n",
       "      <th>1</th>\n",
       "      <td>1900-01-01 03:14:00</td>\n",
       "      <td>pesloh  o rei do gado</td>\n",
       "      <td>{'sadness': 0.0, 'joy': 0.25, 'fear': 0.0, 'di...</td>\n",
       "      <td>{'score': 0.25, 'label': 'POSITIVE'}</td>\n",
       "    </tr>\n",
       "    <tr>\n",
       "      <th>2</th>\n",
       "      <td>1900-01-01 03:14:00</td>\n",
       "      <td>Ramlig ordizi  micheque</td>\n",
       "      <td>{'sadness': 0.0, 'joy': 0.0, 'fear': 0.0, 'dis...</td>\n",
       "      <td>{'score': 0.0, 'label': 'NEUTRAL'}</td>\n",
       "    </tr>\n",
       "    <tr>\n",
       "      <th>3</th>\n",
       "      <td>1900-01-01 03:14:00</td>\n",
       "      <td>Dinho_Bdf  cadê as jóias presidenciais gadinhos</td>\n",
       "      <td>{'sadness': 0.0, 'joy': 0.2625, 'fear': 0.0, '...</td>\n",
       "      <td>{'score': 0.2625, 'label': 'POSITIVE'}</td>\n",
       "    </tr>\n",
       "    <tr>\n",
       "      <th>4</th>\n",
       "      <td>1900-01-01 03:14:00</td>\n",
       "      <td>Wilson de Luces  MALACHEIA</td>\n",
       "      <td>{'sadness': 0.0, 'joy': 0.0, 'fear': 0.0, 'dis...</td>\n",
       "      <td>{'score': 0.0, 'label': 'NEUTRAL'}</td>\n",
       "    </tr>\n",
       "  </tbody>\n",
       "</table>\n",
       "</div>"
      ],
      "text/plain": [
       "            timestamp                                           message  \\\n",
       "0 1900-01-01 03:14:00                      The Guiller  ela ja discursa   \n",
       "1 1900-01-01 03:14:00                             pesloh  o rei do gado   \n",
       "2 1900-01-01 03:14:00                           Ramlig ordizi  micheque   \n",
       "3 1900-01-01 03:14:00   Dinho_Bdf  cadê as jóias presidenciais gadinhos   \n",
       "4 1900-01-01 03:14:00                        Wilson de Luces  MALACHEIA   \n",
       "\n",
       "                                            emotions  \\\n",
       "0  {'sadness': 0.0, 'joy': 0.0, 'fear': 0.0, 'dis...   \n",
       "1  {'sadness': 0.0, 'joy': 0.25, 'fear': 0.0, 'di...   \n",
       "2  {'sadness': 0.0, 'joy': 0.0, 'fear': 0.0, 'dis...   \n",
       "3  {'sadness': 0.0, 'joy': 0.2625, 'fear': 0.0, '...   \n",
       "4  {'sadness': 0.0, 'joy': 0.0, 'fear': 0.0, 'dis...   \n",
       "\n",
       "                                sentiment  \n",
       "0      {'score': 0.0, 'label': 'NEUTRAL'}  \n",
       "1    {'score': 0.25, 'label': 'POSITIVE'}  \n",
       "2      {'score': 0.0, 'label': 'NEUTRAL'}  \n",
       "3  {'score': 0.2625, 'label': 'POSITIVE'}  \n",
       "4      {'score': 0.0, 'label': 'NEUTRAL'}  "
      ]
     },
     "execution_count": 31,
     "metadata": {},
     "output_type": "execute_result"
    }
   ],
   "source": [
    "df.head()"
   ]
  },
  {
   "cell_type": "code",
   "execution_count": 33,
   "id": "9d719e7a-dab0-444e-b86f-e745cb8d8bc3",
   "metadata": {},
   "outputs": [],
   "source": [
    "df['time_interval'] = df['timestamp'].dt.floor('15min')"
   ]
  },
  {
   "cell_type": "code",
   "execution_count": 34,
   "id": "d6478938-a412-4f72-95d1-a2b2756bc102",
   "metadata": {},
   "outputs": [
    {
     "data": {
      "text/html": [
       "<div>\n",
       "<style scoped>\n",
       "    .dataframe tbody tr th:only-of-type {\n",
       "        vertical-align: middle;\n",
       "    }\n",
       "\n",
       "    .dataframe tbody tr th {\n",
       "        vertical-align: top;\n",
       "    }\n",
       "\n",
       "    .dataframe thead th {\n",
       "        text-align: right;\n",
       "    }\n",
       "</style>\n",
       "<table border=\"1\" class=\"dataframe\">\n",
       "  <thead>\n",
       "    <tr style=\"text-align: right;\">\n",
       "      <th></th>\n",
       "      <th>timestamp</th>\n",
       "      <th>message</th>\n",
       "      <th>emotions</th>\n",
       "      <th>sentiment</th>\n",
       "      <th>time_interval</th>\n",
       "    </tr>\n",
       "  </thead>\n",
       "  <tbody>\n",
       "    <tr>\n",
       "      <th>0</th>\n",
       "      <td>1900-01-01 03:14:00</td>\n",
       "      <td>The Guiller  ela ja discursa</td>\n",
       "      <td>{'sadness': 0.0, 'joy': 0.0, 'fear': 0.0, 'dis...</td>\n",
       "      <td>{'score': 0.0, 'label': 'NEUTRAL'}</td>\n",
       "      <td>1900-01-01 03:00:00</td>\n",
       "    </tr>\n",
       "    <tr>\n",
       "      <th>1</th>\n",
       "      <td>1900-01-01 03:14:00</td>\n",
       "      <td>pesloh  o rei do gado</td>\n",
       "      <td>{'sadness': 0.0, 'joy': 0.25, 'fear': 0.0, 'di...</td>\n",
       "      <td>{'score': 0.25, 'label': 'POSITIVE'}</td>\n",
       "      <td>1900-01-01 03:00:00</td>\n",
       "    </tr>\n",
       "    <tr>\n",
       "      <th>2</th>\n",
       "      <td>1900-01-01 03:14:00</td>\n",
       "      <td>Ramlig ordizi  micheque</td>\n",
       "      <td>{'sadness': 0.0, 'joy': 0.0, 'fear': 0.0, 'dis...</td>\n",
       "      <td>{'score': 0.0, 'label': 'NEUTRAL'}</td>\n",
       "      <td>1900-01-01 03:00:00</td>\n",
       "    </tr>\n",
       "    <tr>\n",
       "      <th>3</th>\n",
       "      <td>1900-01-01 03:14:00</td>\n",
       "      <td>Dinho_Bdf  cadê as jóias presidenciais gadinhos</td>\n",
       "      <td>{'sadness': 0.0, 'joy': 0.2625, 'fear': 0.0, '...</td>\n",
       "      <td>{'score': 0.2625, 'label': 'POSITIVE'}</td>\n",
       "      <td>1900-01-01 03:00:00</td>\n",
       "    </tr>\n",
       "    <tr>\n",
       "      <th>4</th>\n",
       "      <td>1900-01-01 03:14:00</td>\n",
       "      <td>Wilson de Luces  MALACHEIA</td>\n",
       "      <td>{'sadness': 0.0, 'joy': 0.0, 'fear': 0.0, 'dis...</td>\n",
       "      <td>{'score': 0.0, 'label': 'NEUTRAL'}</td>\n",
       "      <td>1900-01-01 03:00:00</td>\n",
       "    </tr>\n",
       "  </tbody>\n",
       "</table>\n",
       "</div>"
      ],
      "text/plain": [
       "            timestamp                                           message  \\\n",
       "0 1900-01-01 03:14:00                      The Guiller  ela ja discursa   \n",
       "1 1900-01-01 03:14:00                             pesloh  o rei do gado   \n",
       "2 1900-01-01 03:14:00                           Ramlig ordizi  micheque   \n",
       "3 1900-01-01 03:14:00   Dinho_Bdf  cadê as jóias presidenciais gadinhos   \n",
       "4 1900-01-01 03:14:00                        Wilson de Luces  MALACHEIA   \n",
       "\n",
       "                                            emotions  \\\n",
       "0  {'sadness': 0.0, 'joy': 0.0, 'fear': 0.0, 'dis...   \n",
       "1  {'sadness': 0.0, 'joy': 0.25, 'fear': 0.0, 'di...   \n",
       "2  {'sadness': 0.0, 'joy': 0.0, 'fear': 0.0, 'dis...   \n",
       "3  {'sadness': 0.0, 'joy': 0.2625, 'fear': 0.0, '...   \n",
       "4  {'sadness': 0.0, 'joy': 0.0, 'fear': 0.0, 'dis...   \n",
       "\n",
       "                                sentiment       time_interval  \n",
       "0      {'score': 0.0, 'label': 'NEUTRAL'} 1900-01-01 03:00:00  \n",
       "1    {'score': 0.25, 'label': 'POSITIVE'} 1900-01-01 03:00:00  \n",
       "2      {'score': 0.0, 'label': 'NEUTRAL'} 1900-01-01 03:00:00  \n",
       "3  {'score': 0.2625, 'label': 'POSITIVE'} 1900-01-01 03:00:00  \n",
       "4      {'score': 0.0, 'label': 'NEUTRAL'} 1900-01-01 03:00:00  "
      ]
     },
     "execution_count": 34,
     "metadata": {},
     "output_type": "execute_result"
    }
   ],
   "source": [
    "df.head()"
   ]
  },
  {
   "cell_type": "code",
   "execution_count": 35,
   "id": "a350e173-5464-4778-aa05-e8ac366ded6d",
   "metadata": {},
   "outputs": [],
   "source": [
    "df.to_json('segmentado.json', orient='records', lines=True)"
   ]
  },
  {
   "cell_type": "code",
   "execution_count": 37,
   "id": "3d367382-51ba-4463-98fe-2927ed42cbd4",
   "metadata": {},
   "outputs": [],
   "source": [
    "result = df.groupby('time_interval')"
   ]
  },
  {
   "cell_type": "code",
   "execution_count": 40,
   "id": "02464db7-b1ae-4242-a1f6-d669d516c5e3",
   "metadata": {},
   "outputs": [],
   "source": [
    "df.to_json('segmentado.json', orient='index')"
   ]
  },
  {
   "cell_type": "code",
   "execution_count": null,
   "id": "362532c0-95b2-42cf-9273-4e5e4bf39a87",
   "metadata": {},
   "outputs": [],
   "source": []
  }
 ],
 "metadata": {
  "kernelspec": {
   "display_name": "Python 3 (ipykernel)",
   "language": "python",
   "name": "python3"
  },
  "language_info": {
   "codemirror_mode": {
    "name": "ipython",
    "version": 3
   },
   "file_extension": ".py",
   "mimetype": "text/x-python",
   "name": "python",
   "nbconvert_exporter": "python",
   "pygments_lexer": "ipython3",
   "version": "3.12.2"
  }
 },
 "nbformat": 4,
 "nbformat_minor": 5
}
